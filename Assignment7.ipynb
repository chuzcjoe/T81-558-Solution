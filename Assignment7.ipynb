{
  "nbformat": 4,
  "nbformat_minor": 0,
  "metadata": {
    "colab": {
      "name": "Assignment_Juntao_Yan_class7.ipynb",
      "provenance": [],
      "private_outputs": true,
      "collapsed_sections": []
    },
    "kernelspec": {
      "name": "python3",
      "display_name": "Python 3"
    }
  },
  "cells": [
    {
      "cell_type": "code",
      "metadata": {
        "id": "_L87FoQ7rnWU",
        "colab_type": "code",
        "colab": {}
      },
      "source": [
        "from google.colab import drive\n",
        "drive.mount('/content/drive')"
      ],
      "execution_count": 0,
      "outputs": []
    },
    {
      "cell_type": "code",
      "metadata": {
        "id": "ccbHnYTas5zN",
        "colab_type": "code",
        "colab": {}
      },
      "source": [
        "!git clone https://github.com/thtrieu/darkflow.git\n",
        "!pip install ./darkflow/"
      ],
      "execution_count": 0,
      "outputs": []
    },
    {
      "cell_type": "code",
      "metadata": {
        "id": "mFkJYmwEsyyy",
        "colab_type": "code",
        "colab": {}
      },
      "source": [
        "!ls"
      ],
      "execution_count": 0,
      "outputs": []
    },
    {
      "cell_type": "code",
      "metadata": {
        "id": "xa_le4NPrw6K",
        "colab_type": "code",
        "colab": {}
      },
      "source": [
        "!mkdir -p /content/drive/My\\ Drive/projects\n",
        "!mkdir -p /content/drive/My\\ Drive/projects/yolo\n",
        "!mkdir -p /content/drive/My\\ Drive/projects/yolo/bin\n",
        "!mkdir -p /content/drive/My\\ Drive/projects/yolo/cfg\n",
        "!wget https://raw.githubusercontent.com/thtrieu/darkflow/master/cfg/coco.names -O /content/drive/My\\ Drive/projects/yolo/cfg/coco.names\n",
        "!wget https://raw.githubusercontent.com/thtrieu/darkflow/master/cfg/yolo.cfg -O /content/drive/My\\ Drive/projects/yolo/cfg/yolo.cfg\n",
        "!wget https://pjreddie.com/media/files/yolov2.weights -O /content/drive/My\\ Drive/projects/yolo/bin/yolo.weights"
      ],
      "execution_count": 0,
      "outputs": []
    },
    {
      "cell_type": "code",
      "metadata": {
        "id": "fFKJmLTAsIkB",
        "colab_type": "code",
        "colab": {}
      },
      "source": [
        "from darkflow.net.build import TFNet\n",
        "import cv2\n",
        "import numpy as np\n",
        "import requests\n",
        "import os\n",
        "from scipy import misc\n",
        "from io import BytesIO\n",
        "from urllib.request import urlopen\n",
        "\n",
        "os.chdir('/content/drive/My Drive/projects/yolo') # Google CoLab\n",
        "#os.chdir('/Users/jheaton/projects/darkflow') # Local\n",
        "\n",
        "# For GPU (Google CoLab)\n",
        "options = {\"model\": \"./cfg/yolo.cfg\", \"load\": \"./bin/yolo.weights\", \"threshold\": 0.1, \"gpu\": 1.0}\n",
        "\n",
        "# For CPU \n",
        "#options = {\"model\": \"./cfg/yolo.cfg\", \"load\": \"./bin/yolo.weights\", \"threshold\": 0.1}\n",
        "\n",
        "tfnet = TFNet(options)\n",
        "\n",
        "\n",
        "# Read image to classify\n",
        "url = \"https://data.heatonresearch.com/data/t81-558/sidewalk/sidewalk3.png\"\n",
        "resp = urlopen(url)\n",
        "img = np.asarray(bytearray(resp.read()), dtype=\"uint8\")\n",
        "img = cv2.imdecode(img, cv2.IMREAD_COLOR)\n",
        "\n",
        "result = tfnet.return_predict(img)\n",
        "print(result)"
      ],
      "execution_count": 0,
      "outputs": []
    },
    {
      "cell_type": "code",
      "metadata": {
        "id": "IF07C2HssifL",
        "colab_type": "code",
        "colab": {}
      },
      "source": [
        "def decode(results):\n",
        "    dic = {'person':0,'car':0,'bicycle':0,'motorbike':0,'umbrella':0,'handbag':0}\n",
        "    keys = [x for x in dic.keys()]\n",
        "    for item in results:\n",
        "        if item['label'] not in keys:\n",
        "            continue\n",
        "        dic[item['label']] += 1\n",
        "    return np.array([x for x in dic.values()])"
      ],
      "execution_count": 0,
      "outputs": []
    },
    {
      "cell_type": "code",
      "metadata": {
        "id": "5un94nCbvdG2",
        "colab_type": "code",
        "colab": {}
      },
      "source": [
        "urls = []\n",
        "for i in range(1,11):\n",
        "    urls.append(\"https://data.heatonresearch.com/data/t81-558/sidewalk/sidewalk\"+str(i)+\".png\")"
      ],
      "execution_count": 0,
      "outputs": []
    },
    {
      "cell_type": "code",
      "metadata": {
        "id": "LTEx4gbBworu",
        "colab_type": "code",
        "colab": {}
      },
      "source": [
        "preds = np.zeros((10,6))\n",
        "for i in range(10):\n",
        "    \n",
        "    resp = urlopen(urls[i])\n",
        "    img = np.asarray(bytearray(resp.read()), dtype=\"uint8\")\n",
        "    img = cv2.imdecode(img, cv2.IMREAD_COLOR)\n",
        "\n",
        "    result = tfnet.return_predict(img)\n",
        "    arr = decode(result)\n",
        "    preds[i,:] = arr"
      ],
      "execution_count": 0,
      "outputs": []
    },
    {
      "cell_type": "code",
      "metadata": {
        "id": "ur1wmc1uxIJK",
        "colab_type": "code",
        "colab": {}
      },
      "source": [
        "data = np.c_[np.arange(1,11),preds]"
      ],
      "execution_count": 0,
      "outputs": []
    },
    {
      "cell_type": "code",
      "metadata": {
        "id": "xbw8tFP0zjWF",
        "colab_type": "code",
        "colab": {}
      },
      "source": [
        "data2 = data.astype(np.int32)\n",
        "data2"
      ],
      "execution_count": 0,
      "outputs": []
    },
    {
      "cell_type": "code",
      "metadata": {
        "id": "4g3gy50cxm5l",
        "colab_type": "code",
        "colab": {}
      },
      "source": [
        "import pandas as pd\n",
        "columns = ['image','person','car','bicycle','motorbike','umbrella','handbag']\n",
        "df = pd.DataFrame(data=data2[:,:],columns=columns)"
      ],
      "execution_count": 0,
      "outputs": []
    },
    {
      "cell_type": "code",
      "metadata": {
        "id": "ztN731jsyKU3",
        "colab_type": "code",
        "colab": {}
      },
      "source": [
        "df"
      ],
      "execution_count": 0,
      "outputs": []
    },
    {
      "cell_type": "code",
      "metadata": {
        "id": "O3N9jmiIzGy8",
        "colab_type": "code",
        "colab": {}
      },
      "source": [
        "import base64\n",
        "import os\n",
        "import numpy as np\n",
        "import pandas as pd\n",
        "import requests\n",
        "\n",
        "# This function submits an assignment.  You can submit an assignment as much as you like, only the final\n",
        "# submission counts.  The paramaters are as follows:\n",
        "# data - Pandas dataframe output.\n",
        "# key - Your student key that was emailed to you.\n",
        "# no - The assignment class number, should be 1 through 1.\n",
        "# source_file - The full path to your Python or IPYNB file.  This must have \"_class1\" as part of its name.  \n",
        "# .             The number must match your assignment number.  For example \"_class2\" for class assignment #2.\n",
        "def submit(data,key,no,source_file=None):\n",
        "    if source_file is None and '__file__' not in globals(): raise Exception('Must specify a filename when a Jupyter notebook.')\n",
        "    if source_file is None: source_file = __file__\n",
        "    suffix = '_class{}'.format(no)\n",
        "    if suffix not in source_file: raise Exception('{} must be part of the filename.'.format(suffix))\n",
        "    with open(source_file, \"rb\") as image_file:\n",
        "        encoded_python = base64.b64encode(image_file.read()).decode('ascii')\n",
        "    ext = os.path.splitext(source_file)[-1].lower()\n",
        "    if ext not in ['.ipynb','.py']: raise Exception(\"Source file is {} must be .py or .ipynb\".format(ext))\n",
        "    r = requests.post(\"https://api.heatonresearch.com/assignment-submit\",\n",
        "        headers={'x-api-key':key}, json={'csv':base64.b64encode(data.to_csv(index=False).encode('ascii')).decode(\"ascii\"),\n",
        "        'assignment': no, 'ext':ext, 'py':encoded_python})\n",
        "    if r.status_code == 200:\n",
        "        print(\"Success: {}\".format(r.text))\n",
        "    else: print(\"Failure: {}\".format(r.text))"
      ],
      "execution_count": 0,
      "outputs": []
    },
    {
      "cell_type": "code",
      "metadata": {
        "id": "kAynYXcOzWwD",
        "colab_type": "code",
        "colab": {}
      },
      "source": [
        ""
      ],
      "execution_count": 0,
      "outputs": []
    }
  ]
}