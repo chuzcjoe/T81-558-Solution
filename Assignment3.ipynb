{
  "nbformat": 4,
  "nbformat_minor": 0,
  "metadata": {
    "colab": {
      "name": "assignment_Juntao Yan_class1.ipynb",
      "provenance": [],
      "private_outputs": true
    },
    "kernelspec": {
      "name": "python3",
      "display_name": "Python 3"
    }
  },
  "cells": [
    {
      "cell_type": "code",
      "metadata": {
        "id": "tdOOTcclZxUQ",
        "colab_type": "code",
        "colab": {}
      },
      "source": [
        "import os\n",
        "import pandas as pd\n",
        "from scipy.stats import zscore"
      ],
      "execution_count": 0,
      "outputs": []
    },
    {
      "cell_type": "code",
      "metadata": {
        "id": "ENqekYTBammI",
        "colab_type": "code",
        "colab": {}
      },
      "source": [
        "df = pd.read_csv(\"series-31.csv\")\n",
        "df['time'] = pd.to_datetime(df['time'],errors='coerce')\n",
        "df.head(5)"
      ],
      "execution_count": 0,
      "outputs": []
    },
    {
      "cell_type": "code",
      "metadata": {
        "id": "4zNiLAFkclp3",
        "colab_type": "code",
        "colab": {}
      },
      "source": [
        "df['date'] = df['time'].apply(lambda x: str(x).split(' ')[0])\n",
        "df['hour'] = df['time'].apply(lambda x: int(''.join(str(x).split(' ')[1].split(':'))))"
      ],
      "execution_count": 0,
      "outputs": []
    },
    {
      "cell_type": "code",
      "metadata": {
        "id": "s4p_lWj3g0aD",
        "colab_type": "code",
        "colab": {}
      },
      "source": [
        "g = df['value'].groupby(df['date'])\n",
        "sorted_df = df.groupby([\"date\"]).apply(lambda x: x.sort_values([\"hour\"], ascending = True)).reset_index(drop=True)\n",
        "f = sorted_df['value'].groupby(sorted_df['date'])\n",
        "new_df = pd.DataFrame({'date':g.max().index, 'starting':f.first().values, 'max':g.max().values, 'min':g.min().values, 'ending':f.last().values})"
      ],
      "execution_count": 0,
      "outputs": []
    },
    {
      "cell_type": "code",
      "metadata": {
        "id": "TKUAmQ8CrU_N",
        "colab_type": "code",
        "colab": {}
      },
      "source": [
        "new_df"
      ],
      "execution_count": 0,
      "outputs": []
    },
    {
      "cell_type": "code",
      "metadata": {
        "id": "kXv6TfKmswZJ",
        "colab_type": "code",
        "colab": {}
      },
      "source": [
        ""
      ],
      "execution_count": 0,
      "outputs": []
    }
  ]
}