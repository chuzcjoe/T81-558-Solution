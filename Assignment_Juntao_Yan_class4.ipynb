{
  "nbformat": 4,
  "nbformat_minor": 0,
  "metadata": {
    "colab": {
      "name": "Assignment_Juntao_Yan_class4.ipynb",
      "provenance": [],
      "private_outputs": true,
      "collapsed_sections": []
    },
    "kernelspec": {
      "name": "python3",
      "display_name": "Python 3"
    }
  },
  "cells": [
    {
      "cell_type": "code",
      "metadata": {
        "id": "yuHT4oCBv-RP",
        "colab_type": "code",
        "colab": {}
      },
      "source": [
        "import os\n",
        "import pandas as pd\n",
        "from scipy.stats import zscore\n",
        "from tensorflow.keras.models import Sequential\n",
        "from tensorflow.keras.layers import Dense, Activation\n",
        "import pandas as pd\n",
        "import io\n",
        "import requests\n",
        "import numpy as np\n",
        "from sklearn import metrics"
      ],
      "execution_count": 0,
      "outputs": []
    },
    {
      "cell_type": "code",
      "metadata": {
        "id": "ODqBYo_ZxI5j",
        "colab_type": "code",
        "colab": {}
      },
      "source": [
        "df = pd.read_csv(\"crx.csv\",na_values=['?'])\n",
        "df.head(5)"
      ],
      "execution_count": 0,
      "outputs": []
    },
    {
      "cell_type": "code",
      "metadata": {
        "id": "jWJLc9tX9NZo",
        "colab_type": "code",
        "colab": {}
      },
      "source": [
        "df.isnull().any()"
      ],
      "execution_count": 0,
      "outputs": []
    },
    {
      "cell_type": "code",
      "metadata": {
        "id": "cMLnkppzxO3a",
        "colab_type": "code",
        "colab": {}
      },
      "source": [
        "new_df = df.dropna(subset=[\"a2\", \"a14\"])"
      ],
      "execution_count": 0,
      "outputs": []
    },
    {
      "cell_type": "code",
      "metadata": {
        "id": "jrauD65ZysEq",
        "colab_type": "code",
        "colab": {}
      },
      "source": [
        "new_df.head(5)"
      ],
      "execution_count": 0,
      "outputs": []
    },
    {
      "cell_type": "code",
      "metadata": {
        "id": "di7AnLDcz2Zj",
        "colab_type": "code",
        "colab": {}
      },
      "source": [
        "col = ['a9','a10','a12','a13']\n",
        "for c in col:\n",
        "    new_df[c] = new_df.apply(lambda x: ord(x[c])-96, axis=1)"
      ],
      "execution_count": 0,
      "outputs": []
    },
    {
      "cell_type": "code",
      "metadata": {
        "id": "qfhM1NZ42D4X",
        "colab_type": "code",
        "colab": {}
      },
      "source": [
        "new_df.head(5)"
      ],
      "execution_count": 0,
      "outputs": []
    },
    {
      "cell_type": "code",
      "metadata": {
        "id": "o3ceJuz-3PDu",
        "colab_type": "code",
        "colab": {}
      },
      "source": [
        "cols = ['s3','a8','a9','a10','a11','a12','a13','a15']\n",
        "train = new_df[cols].values"
      ],
      "execution_count": 0,
      "outputs": []
    },
    {
      "cell_type": "code",
      "metadata": {
        "id": "RoOgygmZ30yG",
        "colab_type": "code",
        "colab": {}
      },
      "source": [
        "target1 = new_df['a2'].values\n",
        "target2 = new_df['a14'].values"
      ],
      "execution_count": 0,
      "outputs": []
    },
    {
      "cell_type": "code",
      "metadata": {
        "id": "NCIaZwpf4JwU",
        "colab_type": "code",
        "colab": {}
      },
      "source": [
        "print(train.shape)\n",
        "print(target1.shape,target2.shape)"
      ],
      "execution_count": 0,
      "outputs": []
    },
    {
      "cell_type": "code",
      "metadata": {
        "id": "MMRwt39V4QcU",
        "colab_type": "code",
        "colab": {}
      },
      "source": [
        "def model1():\n",
        "    model=Sequential()\n",
        "    model.add(Dense(64, activation='relu', input_dim=8)) \n",
        "    model.add(Dense(32, activation='relu'))\n",
        "    model.add(Dense(16, activation='relu'))\n",
        "    model.add(Dense(1)) \n",
        "    model.compile(loss='mean_squared_error', optimizer='adam')\n",
        "    return model\n",
        "\n",
        "\n",
        "def model2():\n",
        "    model=Sequential()\n",
        "    #model.add(Dense(64, activation='relu', input_dim=8)) \n",
        "    model.add(Dense(32, activation='relu'))\n",
        "    model.add(Dense(16, activation='relu'))\n",
        "    model.add(Dense(8, activation='relu'))\n",
        "    model.add(Dense(1)) \n",
        "    model.compile(loss='mean_squared_error', optimizer='adam')\n",
        "    return model"
      ],
      "execution_count": 0,
      "outputs": []
    },
    {
      "cell_type": "code",
      "metadata": {
        "id": "dO2WuGKA6AJp",
        "colab_type": "code",
        "colab": {}
      },
      "source": [
        "model_1 = model1()\n",
        "model_1.fit(train, target1, batch_size=200, epochs=100, shuffle=True)"
      ],
      "execution_count": 0,
      "outputs": []
    },
    {
      "cell_type": "code",
      "metadata": {
        "id": "A1DHdQqq--PG",
        "colab_type": "code",
        "colab": {}
      },
      "source": [
        "model_2 = model2()\n",
        "model_2.fit(train, target2, batch_size=50, epochs=100, shuffle=True)"
      ],
      "execution_count": 0,
      "outputs": []
    },
    {
      "cell_type": "code",
      "metadata": {
        "id": "hZeQfXeD6yQe",
        "colab_type": "code",
        "colab": {}
      },
      "source": [
        "a2 = df[df['a2'].isnull().values==True][cols]\n",
        "a14 = df[df['a14'].isnull().values==True][cols]\n",
        "\n",
        "col = ['a9','a10','a12','a13']\n",
        "for c in col:\n",
        "    a2[c] = a2.apply(lambda x: ord(x[c])-96, axis=1)\n",
        "    a14[c] = a14.apply(lambda x: ord(x[c])-96, axis=1)"
      ],
      "execution_count": 0,
      "outputs": []
    },
    {
      "cell_type": "code",
      "metadata": {
        "id": "zlVTlSnI95-G",
        "colab_type": "code",
        "colab": {}
      },
      "source": [
        "a2_val = model_1.predict(a2[cols].values)"
      ],
      "execution_count": 0,
      "outputs": []
    },
    {
      "cell_type": "code",
      "metadata": {
        "id": "puUy76hN-nDb",
        "colab_type": "code",
        "colab": {}
      },
      "source": [
        "a14_val = model_2.predict(a14[cols].values)"
      ],
      "execution_count": 0,
      "outputs": []
    },
    {
      "cell_type": "code",
      "metadata": {
        "id": "q5mhGmkAETg0",
        "colab_type": "code",
        "colab": {}
      },
      "source": [
        "a2_null = list(df['a2'].loc[df['a2'].isnull().values==True].index)\n",
        "a14_null = list(df['a14'].loc[df['a14'].isnull().values==True].index)"
      ],
      "execution_count": 0,
      "outputs": []
    },
    {
      "cell_type": "code",
      "metadata": {
        "id": "WecqzNL5HFD1",
        "colab_type": "code",
        "colab": {}
      },
      "source": [
        "for i in range(len(a2_null)):\n",
        "    df['a2'][a2_null[i]] = a2_val[i][0]\n",
        "    \n",
        "for i in range(len(a14_null)):\n",
        "    df['a14'][a14_null[i]] = a14_val[i][0]"
      ],
      "execution_count": 0,
      "outputs": []
    },
    {
      "cell_type": "code",
      "metadata": {
        "id": "hcRR3pVIHj_M",
        "colab_type": "code",
        "colab": {}
      },
      "source": [
        "df.isnull().any()"
      ],
      "execution_count": 0,
      "outputs": []
    },
    {
      "cell_type": "code",
      "metadata": {
        "id": "ukCKlxSLIcEm",
        "colab_type": "code",
        "colab": {}
      },
      "source": [
        ""
      ],
      "execution_count": 0,
      "outputs": []
    }
  ]
}