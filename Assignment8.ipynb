{
 "cells": [
  {
   "cell_type": "code",
   "execution_count": 0,
   "metadata": {
    "colab": {},
    "colab_type": "code",
    "id": "vqHnby-P2X_8"
   },
   "outputs": [],
   "source": [
    "import os\n",
    "import pandas as pd\n",
    "from scipy.stats import zscore\n",
    "from tensorflow.keras.models import Sequential\n",
    "from tensorflow.keras.layers import Dense, Activation\n",
    "import pandas as pd\n",
    "import io\n",
    "import requests\n",
    "import numpy as np\n",
    "from sklearn import metrics\n",
    "\n",
    "# This is your student key that I emailed to you at the beginnning of the semester.\n",
    "\n",
    "\n",
    "# You must also identify your source file.  (modify for your local setup)\n",
    "# file='/resources/t81_558_deep_learning/assignment_yourname_class1.ipynb'  # IBM Data Science Workbench\n",
    "# file='C:\\\\Users\\\\jeffh\\\\projects\\\\t81_558_deep_learning\\\\t81_558_class1_intro_python.ipynb'  # Windows\n",
    "\n",
    "# file = \"d:\\\\Users\\\\jheaton\\\\Dropbox\\\\school\\\\teaching\\\\wustl\\\\classes\\\\T81_558_deep_learning\\\\solutions\\\\assignment_solution_class9.ipynb\"\n",
    "\n",
    "# Begin assignment\n",
    "#df = pd.read_csv(\"https://data.heatonresearch.com/data/t81-558/datasets/reg-33-data.csv\")"
   ]
  },
  {
   "cell_type": "code",
   "execution_count": 0,
   "metadata": {
    "colab": {},
    "colab_type": "code",
    "id": "W1wxBvOs3gT0"
   },
   "outputs": [],
   "source": [
    "# Begin assignment\n",
    "df = pd.read_csv(\"reg-33-data.csv\")\n",
    "\n",
    "# Encode the feature vector\n",
    "ids = df['id']\n",
    "df.drop('id',1,inplace=True)\n",
    "df.head(5)"
   ]
  },
  {
   "cell_type": "code",
   "execution_count": 0,
   "metadata": {
    "colab": {},
    "colab_type": "code",
    "id": "oQNKx9PL3nNs"
   },
   "outputs": [],
   "source": [
    "df_test = pd.read_csv('reg-33-eval.csv')\n",
    "ids = df_test['id']\n",
    "df_test.drop('id',1,inplace=True)\n",
    "df_test.head(5)"
   ]
  },
  {
   "cell_type": "code",
   "execution_count": 0,
   "metadata": {
    "colab": {},
    "colab_type": "code",
    "id": "TTmUXNyF3xk0"
   },
   "outputs": [],
   "source": [
    "numerical_cols = ['height','max','number','length','power','weight']\n",
    "text_cols = ['convention','cat2','usage','region','code','item','country']"
   ]
  },
  {
   "cell_type": "code",
   "execution_count": 0,
   "metadata": {
    "colab": {},
    "colab_type": "code",
    "id": "lugSFalW3_Tk"
   },
   "outputs": [],
   "source": [
    "#fill nan with mean vlaue\n",
    "for column in list(df.columns[df.isnull().sum() > 0]):\n",
    "    mean_val = df[column].mean()\n",
    "    df[column].fillna(mean_val, inplace=True)\n",
    "    \n",
    "#fill nan with mean vlaue\n",
    "for column in list(df_test.columns[df_test.isnull().sum() > 0]):\n",
    "    mean_val = df_test[column].mean()\n",
    "    df_test[column].fillna(mean_val, inplace=True)"
   ]
  },
  {
   "cell_type": "code",
   "execution_count": 0,
   "metadata": {
    "colab": {},
    "colab_type": "code",
    "id": "6qQCMqsT4JtO"
   },
   "outputs": [],
   "source": [
    "#normalize\n",
    "for col in numerical_cols:\n",
    "    df.loc[:,col] = zscore(df[col].values)\n",
    "\n",
    "#normalize\n",
    "for col in numerical_cols:\n",
    "    df_test.loc[:,col] = zscore(df_test[col].values)"
   ]
  },
  {
   "cell_type": "code",
   "execution_count": 0,
   "metadata": {
    "colab": {},
    "colab_type": "code",
    "id": "kz9Oy61V4QQs"
   },
   "outputs": [],
   "source": [
    "for col in text_cols:\n",
    "    #print(col)\n",
    "    df = df.join(pd.get_dummies(df[col],prefix=col))\n",
    "new_df = df.drop(columns=text_cols)\n",
    "\n",
    "\n",
    "for col in text_cols:\n",
    "    #print(col)\n",
    "    df_test = df_test.join(pd.get_dummies(df_test[col],prefix=col))\n",
    "new_df_test = df_test.drop(columns=text_cols)"
   ]
  },
  {
   "cell_type": "code",
   "execution_count": 0,
   "metadata": {
    "colab": {},
    "colab_type": "code",
    "id": "M_TPLBuB4oJP"
   },
   "outputs": [],
   "source": [
    "train = new_df[[x for x in list(new_df.columns) if x != 'target']].values\n",
    "test = new_df['target'].values\n",
    "\n",
    "print(train.shape, test.shape)\n",
    "\n",
    "test_data = new_df_test[[x for x in list(new_df_test.columns) if x != 'target']].values\n",
    "\n",
    "\n",
    "print(test_data.shape)"
   ]
  },
  {
   "cell_type": "code",
   "execution_count": 0,
   "metadata": {
    "colab": {},
    "colab_type": "code",
    "id": "ZdKsF4cf42Ph"
   },
   "outputs": [],
   "source": [
    "from tensorflow.keras.optimizers import Adam\n",
    "from tensorflow.keras.optimizers import Adadelta\n",
    "from tensorflow.keras.optimizers import SGD\n",
    "\n",
    "def model():\n",
    "    model=Sequential()\n",
    "    model.add(Dense(1000, activation='relu', input_dim=256))\n",
    "    model.add(Dense(1000, activation='relu'))\n",
    "    model.add(Dense(512, activation='relu'))\n",
    "    model.add(Dense(256, activation='relu'))\n",
    "    model.add(Dense(128, activation='relu'))\n",
    "    model.add(Dense(64, activation='relu'))\n",
    "    model.add(Dense(32, activation='relu'))\n",
    "    model.add(Dense(16, activation='relu'))\n",
    "    model.add(Dense(1))\n",
    "    adam = Adam(learning_rate=0.005, beta_1=0.9, beta_2=0.999, amsgrad=True)\n",
    "    ada = Adadelta(learning_rate=0.002, rho=0.9)\n",
    "    sgd = SGD(lr=0.002, decay=1e-3, momentum=0.9, nesterov=True)\n",
    "    model.compile(loss='mse', optimizer=adam)\n",
    "    return model"
   ]
  },
  {
   "cell_type": "code",
   "execution_count": 0,
   "metadata": {
    "colab": {},
    "colab_type": "code",
    "id": "L-naUFDl48T7"
   },
   "outputs": [],
   "source": [
    "model1 = model()\n",
    "model1.fit(train, test, batch_size=1024, epochs=1000, verbose=1)"
   ]
  },
  {
   "cell_type": "code",
   "execution_count": 0,
   "metadata": {
    "colab": {},
    "colab_type": "code",
    "id": "Mtyuw30k5Hrg"
   },
   "outputs": [],
   "source": [
    "predictions = model1.predict(test_data)\n",
    "predictoins = predictions.reshape(-1)\n",
    "sub = np.c_[np.arange(1,1001),predictions].astype(np.int32)\n",
    "dataframe = pd.DataFrame(data=sub,columns=['id','target'])"
   ]
  },
  {
   "cell_type": "code",
   "execution_count": 0,
   "metadata": {
    "colab": {},
    "colab_type": "code",
    "id": "SznJi7kF6fME"
   },
   "outputs": [],
   "source": [
    "dataframe"
   ]
  },
  {
   "cell_type": "code",
   "execution_count": 0,
   "metadata": {
    "colab": {},
    "colab_type": "code",
    "id": "nYcarfv-6kxW"
   },
   "outputs": [],
   "source": []
  }
 ],
 "metadata": {
  "accelerator": "GPU",
  "colab": {
   "collapsed_sections": [],
   "name": "Assignment_Juntao_Yan_class8.ipynb",
   "private_outputs": true,
   "provenance": []
  },
  "kernelspec": {
   "display_name": "Python 3",
   "language": "python",
   "name": "python3"
  },
  "language_info": {
   "codemirror_mode": {
    "name": "ipython",
    "version": 3
   },
   "file_extension": ".py",
   "mimetype": "text/x-python",
   "name": "python",
   "nbconvert_exporter": "python",
   "pygments_lexer": "ipython3",
   "version": "3.6.6"
  }
 },
 "nbformat": 4,
 "nbformat_minor": 1
}
